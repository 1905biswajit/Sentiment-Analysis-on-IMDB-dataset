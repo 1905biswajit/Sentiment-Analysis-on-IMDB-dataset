{
 "cells": [
  {
   "cell_type": "markdown",
   "id": "c9bc3846",
   "metadata": {},
   "source": [
    "# Name : Biswajit Kar\n",
    "# Reg.No : 23MSD7017\n",
    "\n",
    "# Topic: Sentiment Analysis with LSTM \n",
    "***(Using a LSTM model to classify movie reviews as positive or negative using the IMDb dataset. Comparing its performance with a CNN-based model.)***"
   ]
  },
  {
   "cell_type": "markdown",
   "id": "87554cae",
   "metadata": {},
   "source": [
    "### Importiong Libraries"
   ]
  },
  {
   "cell_type": "code",
   "execution_count": 1,
   "id": "db44204f",
   "metadata": {},
   "outputs": [
    {
     "name": "stderr",
     "output_type": "stream",
     "text": [
      "[nltk_data] Error loading punkt: <urlopen error [Errno 2] No such file\n",
      "[nltk_data]     or directory>\n"
     ]
    }
   ],
   "source": [
    "import pandas as pd\n",
    "import numpy as np\n",
    "import matplotlib.pyplot as plt\n",
    "import seaborn as sns\n",
    "import nltk\n",
    "nltk.download('punkt')\n",
    "\n",
    "from nltk.tokenize import word_tokenize\n",
    "from keras.preprocessing.text import Tokenizer\n",
    "from keras.preprocessing.sequence import pad_sequences\n",
    "from keras.models import Sequential\n",
    "from keras.layers import Embedding,LSTM,Dense,Dropout\n",
    "from sklearn.preprocessing import LabelEncoder\n",
    "\n",
    "import warnings\n",
    "warnings.filterwarnings('ignore')\n",
    "sns.set()"
   ]
  },
  {
   "cell_type": "markdown",
   "id": "88a0cf2c",
   "metadata": {},
   "source": [
    "### Importing the Dataset"
   ]
  },
  {
   "cell_type": "markdown",
   "id": "605a7387",
   "metadata": {},
   "source": [
    "I have downloaded the dataset from kaggle, having 50k movie reviews."
   ]
  },
  {
   "cell_type": "code",
   "execution_count": 2,
   "id": "11d7ef0f",
   "metadata": {},
   "outputs": [],
   "source": [
    "imdb_ds = pd.read_csv(r\"C:\\Users\\BISWAJIT\\Downloads\\IMDB\\IMDB Dataset.csv\")"
   ]
  },
  {
   "cell_type": "code",
   "execution_count": 3,
   "id": "165cf254",
   "metadata": {},
   "outputs": [
    {
     "data": {
      "text/html": [
       "<div>\n",
       "<style scoped>\n",
       "    .dataframe tbody tr th:only-of-type {\n",
       "        vertical-align: middle;\n",
       "    }\n",
       "\n",
       "    .dataframe tbody tr th {\n",
       "        vertical-align: top;\n",
       "    }\n",
       "\n",
       "    .dataframe thead th {\n",
       "        text-align: right;\n",
       "    }\n",
       "</style>\n",
       "<table border=\"1\" class=\"dataframe\">\n",
       "  <thead>\n",
       "    <tr style=\"text-align: right;\">\n",
       "      <th></th>\n",
       "      <th>review</th>\n",
       "      <th>sentiment</th>\n",
       "    </tr>\n",
       "  </thead>\n",
       "  <tbody>\n",
       "    <tr>\n",
       "      <th>0</th>\n",
       "      <td>One of the other reviewers has mentioned that ...</td>\n",
       "      <td>positive</td>\n",
       "    </tr>\n",
       "    <tr>\n",
       "      <th>1</th>\n",
       "      <td>A wonderful little production. &lt;br /&gt;&lt;br /&gt;The...</td>\n",
       "      <td>positive</td>\n",
       "    </tr>\n",
       "    <tr>\n",
       "      <th>2</th>\n",
       "      <td>I thought this was a wonderful way to spend ti...</td>\n",
       "      <td>positive</td>\n",
       "    </tr>\n",
       "    <tr>\n",
       "      <th>3</th>\n",
       "      <td>Basically there's a family where a little boy ...</td>\n",
       "      <td>negative</td>\n",
       "    </tr>\n",
       "    <tr>\n",
       "      <th>4</th>\n",
       "      <td>Petter Mattei's \"Love in the Time of Money\" is...</td>\n",
       "      <td>positive</td>\n",
       "    </tr>\n",
       "  </tbody>\n",
       "</table>\n",
       "</div>"
      ],
      "text/plain": [
       "                                              review sentiment\n",
       "0  One of the other reviewers has mentioned that ...  positive\n",
       "1  A wonderful little production. <br /><br />The...  positive\n",
       "2  I thought this was a wonderful way to spend ti...  positive\n",
       "3  Basically there's a family where a little boy ...  negative\n",
       "4  Petter Mattei's \"Love in the Time of Money\" is...  positive"
      ]
     },
     "execution_count": 3,
     "metadata": {},
     "output_type": "execute_result"
    }
   ],
   "source": [
    "imdb_ds.head()"
   ]
  },
  {
   "cell_type": "markdown",
   "id": "4c80141e",
   "metadata": {},
   "source": [
    "### Distribution of target variable"
   ]
  },
  {
   "cell_type": "code",
   "execution_count": 4,
   "id": "6eb52058",
   "metadata": {},
   "outputs": [
    {
     "data": {
      "text/plain": [
       "positive    25000\n",
       "negative    25000\n",
       "Name: sentiment, dtype: int64"
      ]
     },
     "execution_count": 4,
     "metadata": {},
     "output_type": "execute_result"
    }
   ],
   "source": [
    "imdb_ds.sentiment.value_counts()"
   ]
  },
  {
   "cell_type": "markdown",
   "id": "03bad5a9",
   "metadata": {},
   "source": [
    "### Factoring Sentences into words"
   ]
  },
  {
   "cell_type": "code",
   "execution_count": 5,
   "id": "fb8dfcec",
   "metadata": {},
   "outputs": [
    {
     "name": "stdout",
     "output_type": "stream",
     "text": [
      "One of the other reviewers has mentioned that after watching just 1 Oz episode you'll be hooked. They are right, as this is exactly what happened with me.<br /><br />The first thing that struck me about Oz was its brutality and unflinching scenes of violence, which set in right from the word GO. Trust me, this is not a show for the faint hearted or timid. This show pulls no punches with regards to drugs, sex or violence. Its is hardcore, in the classic use of the word.<br /><br />It is called OZ as that is the nickname given to the Oswald Maximum Security State Penitentary. It focuses mainly on Emerald City, an experimental section of the prison where all the cells have glass fronts and face inwards, so privacy is not high on the agenda. Em City is home to many..Aryans, Muslims, gangstas, Latinos, Christians, Italians, Irish and more....so scuffles, death stares, dodgy dealings and shady agreements are never far away.<br /><br />I would say the main appeal of the show is due to the fact that it goes where other shows wouldn't dare. Forget pretty pictures painted for mainstream audiences, forget charm, forget romance...OZ doesn't mess around. The first episode I ever saw struck me as so nasty it was surreal, I couldn't say I was ready for it, but as I watched more, I developed a taste for Oz, and got accustomed to the high levels of graphic violence. Not just violence, but injustice (crooked guards who'll be sold out for a nickel, inmates who'll kill on order and get away with it, well mannered, middle class inmates being turned into prison bitches due to their lack of street skills or prison experience) Watching Oz, you may become comfortable with what is uncomfortable viewing....thats if you can get in touch with your darker side.\n",
      "=================================================================================================\n",
      "=================================================================================================\n",
      "['One', 'of', 'the', 'other', 'reviewers', 'has', 'mentioned', 'that', 'after', 'watching', 'just', '1', 'Oz', 'episode', 'you', \"'ll\", 'be', 'hooked', '.', 'They', 'are', 'right', ',', 'as', 'this', 'is', 'exactly', 'what', 'happened', 'with', 'me.', '<', 'br', '/', '>', '<', 'br', '/', '>', 'The', 'first', 'thing', 'that', 'struck', 'me', 'about', 'Oz', 'was', 'its', 'brutality', 'and', 'unflinching', 'scenes', 'of', 'violence', ',', 'which', 'set', 'in', 'right', 'from', 'the', 'word', 'GO', '.', 'Trust', 'me', ',', 'this', 'is', 'not', 'a', 'show', 'for', 'the', 'faint', 'hearted', 'or', 'timid', '.', 'This', 'show', 'pulls', 'no', 'punches', 'with', 'regards', 'to', 'drugs', ',', 'sex', 'or', 'violence', '.', 'Its', 'is', 'hardcore', ',', 'in', 'the', 'classic', 'use', 'of', 'the', 'word.', '<', 'br', '/', '>', '<', 'br', '/', '>', 'It', 'is', 'called', 'OZ', 'as', 'that', 'is', 'the', 'nickname', 'given', 'to', 'the', 'Oswald', 'Maximum', 'Security', 'State', 'Penitentary', '.', 'It', 'focuses', 'mainly', 'on', 'Emerald', 'City', ',', 'an', 'experimental', 'section', 'of', 'the', 'prison', 'where', 'all', 'the', 'cells', 'have', 'glass', 'fronts', 'and', 'face', 'inwards', ',', 'so', 'privacy', 'is', 'not', 'high', 'on', 'the', 'agenda', '.', 'Em', 'City', 'is', 'home', 'to', 'many', '..', 'Aryans', ',', 'Muslims', ',', 'gangstas', ',', 'Latinos', ',', 'Christians', ',', 'Italians', ',', 'Irish', 'and', 'more', '....', 'so', 'scuffles', ',', 'death', 'stares', ',', 'dodgy', 'dealings', 'and', 'shady', 'agreements', 'are', 'never', 'far', 'away.', '<', 'br', '/', '>', '<', 'br', '/', '>', 'I', 'would', 'say', 'the', 'main', 'appeal', 'of', 'the', 'show', 'is', 'due', 'to', 'the', 'fact', 'that', 'it', 'goes', 'where', 'other', 'shows', 'would', \"n't\", 'dare', '.', 'Forget', 'pretty', 'pictures', 'painted', 'for', 'mainstream', 'audiences', ',', 'forget', 'charm', ',', 'forget', 'romance', '...', 'OZ', 'does', \"n't\", 'mess', 'around', '.', 'The', 'first', 'episode', 'I', 'ever', 'saw', 'struck', 'me', 'as', 'so', 'nasty', 'it', 'was', 'surreal', ',', 'I', 'could', \"n't\", 'say', 'I', 'was', 'ready', 'for', 'it', ',', 'but', 'as', 'I', 'watched', 'more', ',', 'I', 'developed', 'a', 'taste', 'for', 'Oz', ',', 'and', 'got', 'accustomed', 'to', 'the', 'high', 'levels', 'of', 'graphic', 'violence', '.', 'Not', 'just', 'violence', ',', 'but', 'injustice', '(', 'crooked', 'guards', 'who', \"'ll\", 'be', 'sold', 'out', 'for', 'a', 'nickel', ',', 'inmates', 'who', \"'ll\", 'kill', 'on', 'order', 'and', 'get', 'away', 'with', 'it', ',', 'well', 'mannered', ',', 'middle', 'class', 'inmates', 'being', 'turned', 'into', 'prison', 'bitches', 'due', 'to', 'their', 'lack', 'of', 'street', 'skills', 'or', 'prison', 'experience', ')', 'Watching', 'Oz', ',', 'you', 'may', 'become', 'comfortable', 'with', 'what', 'is', 'uncomfortable', 'viewing', '....', 'thats', 'if', 'you', 'can', 'get', 'in', 'touch', 'with', 'your', 'darker', 'side', '.']\n"
     ]
    }
   ],
   "source": [
    "text = imdb_ds['review'][0]\n",
    "token = word_tokenize(text)\n",
    "\n",
    "print(text)\n",
    "print(\"=================================================================================================\")\n",
    "print(\"=================================================================================================\")\n",
    "print(token)"
   ]
  },
  {
   "cell_type": "code",
   "execution_count": 6,
   "id": "e6f859ac",
   "metadata": {},
   "outputs": [],
   "source": [
    "corpus = []\n",
    "\n",
    "for i in imdb_ds['review']:\n",
    "    words = [i.lower() for i in token]\n",
    "    corpus.append(words)"
   ]
  },
  {
   "cell_type": "code",
   "execution_count": 7,
   "id": "12f924ba",
   "metadata": {},
   "outputs": [
    {
     "name": "stdout",
     "output_type": "stream",
     "text": [
      "50000\n"
     ]
    }
   ],
   "source": [
    "num_words = len(corpus)\n",
    "print(num_words)"
   ]
  },
  {
   "cell_type": "markdown",
   "id": "792a9322",
   "metadata": {},
   "source": [
    "### Deviding the data into 80% train and 20% test data"
   ]
  },
  {
   "cell_type": "code",
   "execution_count": 8,
   "id": "4d966a60",
   "metadata": {},
   "outputs": [],
   "source": [
    "train_size = int(imdb_ds.shape[0] * 0.8)\n",
    "x_train = imdb_ds.review[:train_size]\n",
    "y_train = imdb_ds.sentiment[:train_size]\n",
    "\n",
    "x_test = imdb_ds.review[train_size:]\n",
    "y_test = imdb_ds.sentiment[train_size:]"
   ]
  },
  {
   "cell_type": "code",
   "execution_count": 9,
   "id": "1eb894aa",
   "metadata": {},
   "outputs": [],
   "source": [
    "tokenizer = Tokenizer(num_words)\n",
    "tokenizer.fit_on_texts(x_train)"
   ]
  },
  {
   "cell_type": "code",
   "execution_count": 10,
   "id": "16991dd5",
   "metadata": {},
   "outputs": [
    {
     "data": {
      "text/plain": [
       "(array([   27,     4,     1,    80,  2102,    45,  1073,    12,   100,\n",
       "          147,    39,   316,  2968,   409,   459,    26,  3173,    33,\n",
       "           23,   200,    14,    11,     6,   614,    48,   606,    16,\n",
       "           68,     7,     7,     1,    87,   148,    12,  3256,    68,\n",
       "           41,  2968,    13,    92,  5626,     2, 16202,   134,     4,\n",
       "          569,    60,   271,     8,   200,    36,     1,   673,   139,\n",
       "         1712,    68,    11,     6,    21,     3,   118,    15,     1,\n",
       "         7870,  2257,    38, 11540,    11,   118,  2495,    54,  5662,\n",
       "           16,  5182,     5,  1438,   377,    38,   569,    92,     6,\n",
       "         3730,     8,     1,   360,   353,     4,     1,   673,     7,\n",
       "            7,     9,     6,   431,  2968,    14,    12,     6,     1,\n",
       "        11736,   356,     5,     1, 14689,  6526,  2594,  1087,     9,\n",
       "         2661,  1432,    20, 22583,   534,    32,  4795,  2451,     4,\n",
       "            1,  1193,   117,    29,     1,  6893,    25,  2874, 12191,\n",
       "            2,   392]),\n",
       " 128)"
      ]
     },
     "execution_count": 10,
     "metadata": {},
     "output_type": "execute_result"
    }
   ],
   "source": [
    "x_train = tokenizer.texts_to_sequences(x_train)\n",
    "x_train = pad_sequences(x_train, maxlen=128, truncating='post', padding='post')\n",
    "\n",
    "x_train[0], len(x_train[0])"
   ]
  },
  {
   "cell_type": "code",
   "execution_count": 11,
   "id": "8af1edf2",
   "metadata": {},
   "outputs": [
    {
     "data": {
      "text/plain": [
       "(array([   87,   122,    10,   180,     5,   132,    12,    10,  7131,\n",
       "         3717,    20,     1,  1001,  2285,     2,    10,   255,     1,\n",
       "           17,  2431,    10,  1311,     5,   103,     1,   222,  6349,\n",
       "            4,     3,    19,    11,    17,   974,     3,   351,     5,\n",
       "          215,  1011,   415,     9,    13,   215,  1380,    56,   235,\n",
       "          402,   300,     4,   316,    23,   257,    19,   961,    12,\n",
       "        22250,    12,    33,    66,    61,   212,    53,    16,    11,\n",
       "          113,    13,   497,     2,     1,   102,    70,  5358,    15,\n",
       "            1,    88,   172,     1,   473,   824,     8,     1,    64,\n",
       "           67,    54,    49,  2406,    30,    29,    33,    90,    40,\n",
       "        35787,    83,    46,   438,     4,     3,    74,   220,     2,\n",
       "           10,   115,    21,    63,    12,    30,    29,   268,    10,\n",
       "         1059,   137,    10,    78,    21,   119,    28,    13,     1,\n",
       "           88,   175,     5,   728,  3423,   108,     8,     1,    17,\n",
       "           10,   115]),\n",
       " 128)"
      ]
     },
     "execution_count": 11,
     "metadata": {},
     "output_type": "execute_result"
    }
   ],
   "source": [
    "x_test = tokenizer.texts_to_sequences(x_test)\n",
    "x_test = pad_sequences(x_test, maxlen=128, truncating='post', padding='post')\n",
    "\n",
    "x_test[0], len(x_test[0])"
   ]
  },
  {
   "cell_type": "code",
   "execution_count": 12,
   "id": "1d8bc0a7",
   "metadata": {},
   "outputs": [
    {
     "name": "stdout",
     "output_type": "stream",
     "text": [
      "(40000, 128) (40000,)\n",
      "(10000, 128) (10000,)\n"
     ]
    }
   ],
   "source": [
    "print(x_train.shape, y_train.shape)\n",
    "print(x_test.shape, y_test.shape)"
   ]
  },
  {
   "cell_type": "markdown",
   "id": "8350fa51",
   "metadata": {},
   "source": [
    "## Fit a LSTM model"
   ]
  },
  {
   "cell_type": "code",
   "execution_count": 13,
   "id": "435755f7",
   "metadata": {},
   "outputs": [
    {
     "name": "stdout",
     "output_type": "stream",
     "text": [
      "Model: \"sequential\"\n",
      "_________________________________________________________________\n",
      "Layer (type)                 Output Shape              Param #   \n",
      "=================================================================\n",
      "embedding (Embedding)        (None, 128, 100)          5000000   \n",
      "_________________________________________________________________\n",
      "lstm (LSTM)                  (None, 128, 100)          80400     \n",
      "_________________________________________________________________\n",
      "lstm_1 (LSTM)                (None, 100)               80400     \n",
      "_________________________________________________________________\n",
      "dense (Dense)                (None, 1)                 101       \n",
      "=================================================================\n",
      "Total params: 5,160,901\n",
      "Trainable params: 5,160,901\n",
      "Non-trainable params: 0\n",
      "_________________________________________________________________\n"
     ]
    }
   ],
   "source": [
    "model = Sequential()\n",
    "\n",
    "model.add(Embedding(input_dim = num_words, output_dim = 100,\n",
    "                   input_length = 128, trainable = True))\n",
    "model.add(LSTM(100, dropout=0.1, return_sequences = True))\n",
    "model.add(LSTM(100, dropout=0.1))\n",
    "model.add(Dense(1, activation = 'sigmoid'))\n",
    "\n",
    "model.compile(optimizer='adam',\n",
    "              loss='binary_crossentropy',\n",
    "              metrics=['accuracy'])\n",
    "\n",
    "model.summary()"
   ]
  },
  {
   "cell_type": "code",
   "execution_count": 14,
   "id": "c07d90ea",
   "metadata": {},
   "outputs": [
    {
     "name": "stdout",
     "output_type": "stream",
     "text": [
      "Epoch 1/10\n",
      "625/625 [==============================] - 56s 66ms/step - loss: 0.4450 - accuracy: 0.7890 - val_loss: 0.3466 - val_accuracy: 0.8552\n",
      "Epoch 2/10\n",
      "625/625 [==============================] - 41s 65ms/step - loss: 0.2786 - accuracy: 0.8917 - val_loss: 0.3554 - val_accuracy: 0.8495\n",
      "Epoch 3/10\n",
      "625/625 [==============================] - 38s 61ms/step - loss: 0.1807 - accuracy: 0.9348 - val_loss: 0.3865 - val_accuracy: 0.8573\n",
      "Epoch 4/10\n",
      "625/625 [==============================] - 37s 59ms/step - loss: 0.1253 - accuracy: 0.9561 - val_loss: 0.4489 - val_accuracy: 0.8511\n",
      "Epoch 5/10\n",
      "625/625 [==============================] - 38s 60ms/step - loss: 0.1246 - accuracy: 0.9536 - val_loss: 0.4813 - val_accuracy: 0.8462\n",
      "Epoch 6/10\n",
      "625/625 [==============================] - 34s 55ms/step - loss: 0.0709 - accuracy: 0.9780 - val_loss: 0.5718 - val_accuracy: 0.8437\n",
      "Epoch 7/10\n",
      "625/625 [==============================] - 33s 53ms/step - loss: 0.0461 - accuracy: 0.9855 - val_loss: 0.5819 - val_accuracy: 0.8473\n",
      "Epoch 8/10\n",
      "625/625 [==============================] - 33s 53ms/step - loss: 0.0401 - accuracy: 0.9880 - val_loss: 0.6597 - val_accuracy: 0.8498\n",
      "Epoch 9/10\n",
      "625/625 [==============================] - 33s 53ms/step - loss: 0.0349 - accuracy: 0.9901 - val_loss: 0.6532 - val_accuracy: 0.8494\n",
      "Epoch 10/10\n",
      "625/625 [==============================] - 33s 53ms/step - loss: 0.0314 - accuracy: 0.9905 - val_loss: 0.6704 - val_accuracy: 0.8416\n"
     ]
    }
   ],
   "source": [
    "# Convert labels from strings to integers\n",
    "encoder = LabelEncoder()\n",
    "y_train = encoder.fit_transform(y_train)\n",
    "y_test = encoder.transform(y_test)\n",
    "\n",
    "# Ensure input features are floats\n",
    "x_train = x_train.astype(float)\n",
    "x_test = x_test.astype(float)\n",
    "\n",
    "# Now fit the model\n",
    "history = model.fit(x_train, y_train, epochs=10, batch_size=64, validation_data=(x_test, y_test))"
   ]
  },
  {
   "cell_type": "code",
   "execution_count": 15,
   "id": "4dcf59e0",
   "metadata": {},
   "outputs": [
    {
     "data": {
      "image/png": "[encoded data removed]",
      "text/plain": [
       "<Figure size 1200x400 with 2 Axes>"
      ]
     },
     "metadata": {},
     "output_type": "display_data"
    }
   ],
   "source": [
    "# Plot the Accuracy and loss values\n",
    "\n",
    "plt.figure(figsize=(12, 4))\n",
    "\n",
    "# Accuracy Plot\n",
    "plt.subplot(1, 2, 1)\n",
    "plt.plot(history.history['accuracy'], label='Training Accuracy')\n",
    "plt.plot(history.history['val_accuracy'], label='Validation Accuracy')\n",
    "plt.title('Model Accuracy')\n",
    "plt.xlabel('Epoch')\n",
    "plt.ylabel('Accuracy')\n",
    "plt.legend(loc='lower right')\n",
    "\n",
    "# Loss Plot\n",
    "plt.subplot(1, 2, 2)\n",
    "plt.plot(history.history['loss'], label='Training Loss')\n",
    "plt.plot(history.history['val_loss'], label='Validation Loss')\n",
    "plt.title('Model Loss')\n",
    "plt.xlabel('Epoch')\n",
    "plt.ylabel('Loss')\n",
    "plt.legend(loc='upper right')\n",
    "\n",
    "# Display the plots\n",
    "plt.tight_layout()\n",
    "plt.show()"
   ]
  },
  {
   "cell_type": "markdown",
   "id": "d0520b4d",
   "metadata": {},
   "source": [
    "**Training Loss and Accuracy:** The model’s training loss consistently decreases, and training accuracy increases with each epoch. This indicates that the model is learning from the data and optimizing its weights effectively.\n",
    "Starting from an accuracy of 78.9% and a loss of 0.4450, the model reaches an accuracy of 99.05% and a very low loss of 0.0314 by the 10th epoch.\n",
    "\n",
    "**Validation Loss and Accuracy:** The validation accuracy is fairly stable, staying around 84-85%, but validation loss starts to increase after the second epoch.\n",
    "In early epochs (1–3), the validation loss is low, indicating a good fit. However, as training progresses, the validation loss begins to rise, which is a sign of overfitting. By the 10th epoch, the validation loss has risen to 0.6704.\n",
    "\n",
    "The divergence between training and validation performance suggests overfitting, as the model has learned patterns specific to the training data but not generalizable to unseen data. By around epoch 3, the training loss continues to decrease, but the validation loss increases, indicating that the model is capturing noise rather than meaningful patterns."
   ]
  },
  {
   "cell_type": "markdown",
   "id": "4b0e9811",
   "metadata": {},
   "source": [
    "## Fit a CNN based model"
   ]
  },
  {
   "cell_type": "code",
   "execution_count": 18,
   "id": "47529311",
   "metadata": {},
   "outputs": [
    {
     "name": "stdout",
     "output_type": "stream",
     "text": [
      "Model: \"sequential_2\"\n",
      "_________________________________________________________________\n",
      "Layer (type)                 Output Shape              Param #   \n",
      "=================================================================\n",
      "embedding_2 (Embedding)      (None, 128, 100)          5000000   \n",
      "_________________________________________________________________\n",
      "conv1d_1 (Conv1D)            (None, 124, 128)          64128     \n",
      "_________________________________________________________________\n",
      "global_max_pooling1d_1 (Glob (None, 128)               0         \n",
      "_________________________________________________________________\n",
      "dense_3 (Dense)              (None, 128)               16512     \n",
      "_________________________________________________________________\n",
      "dropout_1 (Dropout)          (None, 128)               0         \n",
      "_________________________________________________________________\n",
      "dense_4 (Dense)              (None, 1)                 129       \n",
      "=================================================================\n",
      "Total params: 5,080,769\n",
      "Trainable params: 5,080,769\n",
      "Non-trainable params: 0\n",
      "_________________________________________________________________\n"
     ]
    }
   ],
   "source": [
    "from tensorflow.keras.models import Sequential\n",
    "from tensorflow.keras.layers import Embedding, Conv1D, GlobalMaxPooling1D, Dense, Dropout\n",
    "from tensorflow.keras.optimizers import Adam\n",
    "\n",
    "\n",
    "cnn_model = Sequential()\n",
    "\n",
    "cnn_model.add(Embedding(input_dim=num_words, output_dim=100, input_length=128))\n",
    "\n",
    "cnn_model.add(Conv1D(128, kernel_size=5, activation='relu'))\n",
    "cnn_model.add(GlobalMaxPooling1D())\n",
    "\n",
    "cnn_model.add(Dense(128, activation='relu'))\n",
    "cnn_model.add(Dropout(0.1))\n",
    "cnn_model.add(Dense(1, activation='sigmoid'))\n",
    "\n",
    "cnn_model.compile(optimizer=Adam(),\n",
    "                  loss='binary_crossentropy',\n",
    "                  metrics=['accuracy'])\n",
    "\n",
    "# Model Summary\n",
    "cnn_model.summary()"
   ]
  },
  {
   "cell_type": "code",
   "execution_count": 19,
   "id": "bbe84e37",
   "metadata": {},
   "outputs": [
    {
     "name": "stdout",
     "output_type": "stream",
     "text": [
      "Epoch 1/10\n",
      "625/625 [==============================] - 7s 10ms/step - loss: 0.4222 - accuracy: 0.7976 - val_loss: 0.3162 - val_accuracy: 0.8659\n",
      "Epoch 2/10\n",
      "625/625 [==============================] - 6s 9ms/step - loss: 0.1779 - accuracy: 0.9325 - val_loss: 0.3581 - val_accuracy: 0.8577\n",
      "Epoch 3/10\n",
      "625/625 [==============================] - 6s 9ms/step - loss: 0.0287 - accuracy: 0.9927 - val_loss: 0.4254 - val_accuracy: 0.8637\n",
      "Epoch 4/10\n",
      "625/625 [==============================] - 6s 9ms/step - loss: 0.0036 - accuracy: 0.9998 - val_loss: 0.5118 - val_accuracy: 0.8670\n",
      "Epoch 5/10\n",
      "625/625 [==============================] - 6s 9ms/step - loss: 8.3072e-04 - accuracy: 0.9999 - val_loss: 0.5507 - val_accuracy: 0.8662\n",
      "Epoch 6/10\n",
      "625/625 [==============================] - 6s 9ms/step - loss: 1.8228e-04 - accuracy: 1.0000 - val_loss: 0.5777 - val_accuracy: 0.8696\n",
      "Epoch 7/10\n",
      "625/625 [==============================] - 6s 9ms/step - loss: 9.6525e-05 - accuracy: 1.0000 - val_loss: 0.6038 - val_accuracy: 0.8700\n",
      "Epoch 8/10\n",
      "625/625 [==============================] - 6s 9ms/step - loss: 5.8079e-05 - accuracy: 1.0000 - val_loss: 0.6269 - val_accuracy: 0.8700\n",
      "Epoch 9/10\n",
      "625/625 [==============================] - 6s 9ms/step - loss: 3.9607e-05 - accuracy: 1.0000 - val_loss: 0.6487 - val_accuracy: 0.8696\n",
      "Epoch 10/10\n",
      "625/625 [==============================] - 6s 9ms/step - loss: 2.6720e-05 - accuracy: 1.0000 - val_loss: 0.6696 - val_accuracy: 0.8697\n"
     ]
    }
   ],
   "source": [
    "cnn_history = cnn_model.fit(x_train, y_train, epochs=10, batch_size=64, validation_data=(x_test, y_test))"
   ]
  },
  {
   "cell_type": "code",
   "execution_count": 20,
   "id": "28146c1b",
   "metadata": {},
   "outputs": [
    {
     "data": {
      "image/png": "[encoded data removed]",
      "text/plain": [
       "<Figure size 1200x400 with 2 Axes>"
      ]
     },
     "metadata": {},
     "output_type": "display_data"
    }
   ],
   "source": [
    "# Plot the Accuracy and loss values\n",
    "plt.figure(figsize=(12, 4))\n",
    "\n",
    "# Accuracy Plot\n",
    "plt.subplot(1, 2, 1)\n",
    "plt.plot(cnn_history.history['accuracy'], label='Training Accuracy')\n",
    "plt.plot(cnn_history.history['val_accuracy'], label='Validation Accuracy')\n",
    "plt.title('Model Accuracy')\n",
    "plt.xlabel('Epoch')\n",
    "plt.ylabel('Accuracy')\n",
    "plt.legend(loc='lower right')\n",
    "\n",
    "# Loss Plot\n",
    "plt.subplot(1, 2, 2)\n",
    "plt.plot(cnn_history.history['loss'], label='Training Loss')\n",
    "plt.plot(cnn_history.history['val_loss'], label='Validation Loss')\n",
    "plt.title('Model Loss')\n",
    "plt.xlabel('Epoch')\n",
    "plt.ylabel('Loss')\n",
    "plt.legend(loc='upper right')\n",
    "\n",
    "# Display the plots\n",
    "plt.tight_layout()\n",
    "plt.show()"
   ]
  },
  {
   "cell_type": "markdown",
   "id": "6c1de152",
   "metadata": {},
   "source": [
    "**Training Accuracy:** The training accuracy started at 79.76% in the first epoch and reached 100% by the 4th epoch, staying at 100% for the rest of the training. This rapid improvement shows that the model is fitting the training data exceptionally well.\n",
    "\n",
    "**Validation Accuracy:** The validation accuracy started at 86.59% and remained around 86-87% through all epochs. Despite the training accuracy reaching 100%, the validation accuracy remains relatively stable, indicating the model isn’t improving on new, unseen data.\n",
    "\n",
    "**Training Loss:** The training loss decreased from 0.4222 to extremely low values close to 0 by the last epoch. This steep decline in training loss is a sign that the model is learning to classify the training data perfectly.\n",
    "\n",
    "**Validation Loss:** The validation loss initially decreased from 0.3162 to 0.3581, then gradually increased over the epochs, ending at 0.6696. This gradual increase, even as the validation accuracy remains stable, suggests the model might be overfitting.\n",
    "\n",
    "A typical indicator of overfitting is when the training accuracy continues to improve (reaching 100% here) while validation accuracy stagnates or improves minimally and validation loss begins to increase. This suggests the model is memorizing patterns in the training data that don’t generalize well to new data."
   ]
  },
  {
   "cell_type": "markdown",
   "id": "87ca0f88",
   "metadata": {},
   "source": [
    "## Model evaluation & Comparison"
   ]
  },
  {
   "cell_type": "code",
   "execution_count": 33,
   "id": "01f97e97",
   "metadata": {},
   "outputs": [],
   "source": [
    "from sklearn.metrics import accuracy_score, precision_score, recall_score, f1_score, roc_auc_score\n",
    "\n",
    "def evaluate_model(model, x_test, y_test):\n",
    "    \n",
    "    # Predict probabilities on the test set\n",
    "    y_pred_prob = model.predict(x_test)\n",
    "    \n",
    "    # Calculate evaluation metrics\n",
    "    accuracy = accuracy_score(y_test, y_pred_prob.round())\n",
    "    precision = precision_score(y_test, y_pred_prob.round())\n",
    "    recall = recall_score(y_test, y_pred_prob.round())\n",
    "    f1 = f1_score(y_test, y_pred_prob.round())\n",
    "    \n",
    "    # Print metrics\n",
    "    print(\"Accuracy: {:.4f}\".format(accuracy))\n",
    "    print(\"Precision: {:.4f}\".format(precision))\n",
    "    print(\"Recall: {:.4f}\".format(recall))\n",
    "    print(\"F1 Score: {:.4f}\".format(f1))\n",
    "    \n",
    "    return {\n",
    "        \"accuracy\": accuracy,\n",
    "        \"precision\": precision,\n",
    "        \"recall\": recall,\n",
    "        \"f1_score\": f1,\n",
    "    }"
   ]
  },
  {
   "cell_type": "code",
   "execution_count": 34,
   "id": "a66ab84b",
   "metadata": {},
   "outputs": [
    {
     "name": "stdout",
     "output_type": "stream",
     "text": [
      "Accuracy: 0.8416\n",
      "Precision: 0.8677\n",
      "Recall: 0.8067\n",
      "F1 Score: 0.8361\n",
      "Accuracy: 0.8697\n",
      "Precision: 0.8640\n",
      "Recall: 0.8780\n",
      "F1 Score: 0.8709\n"
     ]
    },
    {
     "data": {
      "text/html": [
       "<div>\n",
       "<style scoped>\n",
       "    .dataframe tbody tr th:only-of-type {\n",
       "        vertical-align: middle;\n",
       "    }\n",
       "\n",
       "    .dataframe tbody tr th {\n",
       "        vertical-align: top;\n",
       "    }\n",
       "\n",
       "    .dataframe thead th {\n",
       "        text-align: right;\n",
       "    }\n",
       "</style>\n",
       "<table border=\"1\" class=\"dataframe\">\n",
       "  <thead>\n",
       "    <tr style=\"text-align: right;\">\n",
       "      <th></th>\n",
       "      <th>LSTM Model</th>\n",
       "      <th>CNN Model</th>\n",
       "    </tr>\n",
       "  </thead>\n",
       "  <tbody>\n",
       "    <tr>\n",
       "      <th>accuracy</th>\n",
       "      <td>0.841600</td>\n",
       "      <td>0.869700</td>\n",
       "    </tr>\n",
       "    <tr>\n",
       "      <th>precision</th>\n",
       "      <td>0.867669</td>\n",
       "      <td>0.863994</td>\n",
       "    </tr>\n",
       "    <tr>\n",
       "      <th>recall</th>\n",
       "      <td>0.806671</td>\n",
       "      <td>0.877971</td>\n",
       "    </tr>\n",
       "    <tr>\n",
       "      <th>f1_score</th>\n",
       "      <td>0.836059</td>\n",
       "      <td>0.870926</td>\n",
       "    </tr>\n",
       "  </tbody>\n",
       "</table>\n",
       "</div>"
      ],
      "text/plain": [
       "           LSTM Model  CNN Model\n",
       "accuracy     0.841600   0.869700\n",
       "precision    0.867669   0.863994\n",
       "recall       0.806671   0.877971\n",
       "f1_score     0.836059   0.870926"
      ]
     },
     "execution_count": 34,
     "metadata": {},
     "output_type": "execute_result"
    }
   ],
   "source": [
    "# Create a DataFrame for comparison\n",
    "comparison_df = pd.DataFrame({\n",
    "    \"LSTM Model\": evaluate_model(model, x_test, y_test),\n",
    "    \"CNN Model\":  evaluate_model(cnn_model, x_test, y_test)\n",
    "})\n",
    "\n",
    "# Transpose the DataFrame to have models as rows and metrics as columns\n",
    "comparison_df"
   ]
  },
  {
   "cell_type": "markdown",
   "id": "89d3394a",
   "metadata": {},
   "source": [
    "**Accuracy:** CNN has a higher accuracy, suggesting it performs better overall in correct classification.\n",
    "\n",
    "**Precision:** LSTM has a slightly higher precision, indicating it makes fewer false positive predictions than CNN.\n",
    "\n",
    "**Recall:** CNN has a notably higher recall, suggesting it captures more of the positive cases and makes fewer false negatives.\n",
    "\n",
    "**F1 Score:** CNN’s F1 score is higher, indicating a better balance between precision and recall.\n",
    "\n",
    "### Summary:\n",
    "\n",
    "**LSTM:** Shows slightly better precision, meaning it is better at correctly identifying positive reviews without mistakenly labeling negative reviews as positive. However, it has a lower recall, suggesting it misses more positive cases than the CNN model.\n",
    "\n",
    "\n",
    "**CNN:** Outperforms the LSTM in accuracy, recall, and F1 score. This suggests that CNN is more balanced and captures positive cases more effectively, while maintaining decent precision."
   ]
  },
  {
   "cell_type": "markdown",
   "id": "e0c5b571",
   "metadata": {},
   "source": [
    "## Testing some sentences to predict the sentiment"
   ]
  },
  {
   "cell_type": "code",
   "execution_count": 65,
   "id": "f65bd5de",
   "metadata": {},
   "outputs": [],
   "source": [
    "from tensorflow.keras.preprocessing.sequence import pad_sequences\n",
    "\n",
    "def predict_sentiment(input_text, model, tokenizer, max_len=128):\n",
    "    \n",
    "    # Tokenize the input sentence\n",
    "    tokenized_text = tokenizer.texts_to_sequences([input_text])\n",
    "    \n",
    "    # Pad the sequence to match the input length of the model\n",
    "    padded_text = pad_sequences(tokenized_text, maxlen=max_len, truncating='post', padding='post')\n",
    "    \n",
    "    # Predict the probability of the sentence being positive\n",
    "    predicted_prob = model.predict(padded_text)[0][0]\n",
    "    \n",
    "    # Calculate percentages for positive and negative\n",
    "    positive_percent = predicted_prob * 100\n",
    "    negative_percent = (1 - predicted_prob) * 100\n",
    "    \n",
    "    # Print the original sentence and formatted sentiment probabilities\n",
    "    print(f\"{positive_percent:.2f}% positive and {negative_percent:.2f}% negative.\")"
   ]
  },
  {
   "cell_type": "markdown",
   "id": "0f0dfbdf",
   "metadata": {},
   "source": [
    "#### Sentence 1 : \"This movie was not good at all. It had some good parts like the acting was pretty good but the story was not impressing at all.\""
   ]
  },
  {
   "cell_type": "code",
   "execution_count": 66,
   "id": "ec1854aa",
   "metadata": {},
   "outputs": [
    {
     "name": "stdout",
     "output_type": "stream",
     "text": [
      "17.39% positive and 82.61% negative.\n"
     ]
    }
   ],
   "source": [
    "## LSTM model\n",
    "\n",
    "validation_sentence = \"This movie was not good at all. It had some good parts like the acting was pretty good but the story was not impressing at all.\"\n",
    "predict_sentiment(validation_sentence, model, tokenizer)"
   ]
  },
  {
   "cell_type": "code",
   "execution_count": 67,
   "id": "aa4c3e1c",
   "metadata": {},
   "outputs": [
    {
     "name": "stdout",
     "output_type": "stream",
     "text": [
      "63.60% positive and 36.40% negative.\n"
     ]
    }
   ],
   "source": [
    "## CNN model\n",
    "\n",
    "predict_sentiment(validation_sentence, cnn_model, tokenizer)"
   ]
  },
  {
   "cell_type": "markdown",
   "id": "42d60a80",
   "metadata": {},
   "source": [
    "#### Sentence 2 : \"The cinematography was beautiful, but the pacing of the movie was too slow for my liking.\""
   ]
  },
  {
   "cell_type": "code",
   "execution_count": 68,
   "id": "1ebf0833",
   "metadata": {},
   "outputs": [
    {
     "name": "stdout",
     "output_type": "stream",
     "text": [
      "17.33% positive and 82.67% negative.\n"
     ]
    }
   ],
   "source": [
    "## LSTM model\n",
    "\n",
    "validation_sentence = \"The cinematography was beautiful, but the pacing of the movie was too slow for my liking.\"\n",
    "predict_sentiment(validation_sentence, model, tokenizer)"
   ]
  },
  {
   "cell_type": "code",
   "execution_count": 69,
   "id": "f4ddd4dc",
   "metadata": {},
   "outputs": [
    {
     "name": "stdout",
     "output_type": "stream",
     "text": [
      "0.01% positive and 99.99% negative.\n"
     ]
    }
   ],
   "source": [
    "## CNN model\n",
    "\n",
    "predict_sentiment(validation_sentence, cnn_model, tokenizer)"
   ]
  },
  {
   "cell_type": "markdown",
   "id": "bc8211ae",
   "metadata": {},
   "source": [
    "#### Sentence 3 : \"I liked the music, but the rest of the movie was just okay.\""
   ]
  },
  {
   "cell_type": "code",
   "execution_count": 70,
   "id": "1090a6cc",
   "metadata": {},
   "outputs": [
    {
     "name": "stdout",
     "output_type": "stream",
     "text": [
      "17.34% positive and 82.66% negative.\n"
     ]
    }
   ],
   "source": [
    "## LSTM model\n",
    "validation_sentence = \"I liked the music, but the rest of the movie was just okay.\"\n",
    "predict_sentiment(validation_sentence, model, tokenizer)"
   ]
  },
  {
   "cell_type": "code",
   "execution_count": 71,
   "id": "5b526966",
   "metadata": {},
   "outputs": [
    {
     "name": "stdout",
     "output_type": "stream",
     "text": [
      "0.00% positive and 100.00% negative.\n"
     ]
    }
   ],
   "source": [
    "## CNN model\n",
    "predict_sentiment(validation_sentence, cnn_model, tokenizer)"
   ]
  },
  {
   "cell_type": "markdown",
   "id": "03de7262",
   "metadata": {},
   "source": [
    "#### Sentence 4 : \"Not worth the time. It was a letdown from start to finish.\""
   ]
  },
  {
   "cell_type": "code",
   "execution_count": 72,
   "id": "854bf037",
   "metadata": {},
   "outputs": [
    {
     "name": "stdout",
     "output_type": "stream",
     "text": [
      "17.37% positive and 82.63% negative.\n"
     ]
    }
   ],
   "source": [
    "## LSTM model\n",
    "validation_sentence = \"Not worth the time. It was a letdown from start to finish.\"\n",
    "predict_sentiment(validation_sentence, model, tokenizer)"
   ]
  },
  {
   "cell_type": "code",
   "execution_count": 73,
   "id": "5d3fff31",
   "metadata": {},
   "outputs": [
    {
     "name": "stdout",
     "output_type": "stream",
     "text": [
      "0.16% positive and 99.84% negative.\n"
     ]
    }
   ],
   "source": [
    "## CNN model\n",
    "predict_sentiment(validation_sentence, cnn_model, tokenizer)"
   ]
  },
  {
   "cell_type": "markdown",
   "id": "b9900f0b",
   "metadata": {},
   "source": [
    "#### Sentence 5 : \"I absolutely loved every moment of this film; it was so inspiring and beautiful.\""
   ]
  },
  {
   "cell_type": "code",
   "execution_count": 74,
   "id": "d6b05abd",
   "metadata": {},
   "outputs": [
    {
     "name": "stdout",
     "output_type": "stream",
     "text": [
      "96.03% positive and 3.97% negative.\n"
     ]
    }
   ],
   "source": [
    "## LSTM model\n",
    "validation_sentence = \"I absolutely loved every moment of this film; it was so inspiring and beautiful.\"  \n",
    "predict_sentiment(validation_sentence, model, tokenizer)"
   ]
  },
  {
   "cell_type": "code",
   "execution_count": 75,
   "id": "4302d507",
   "metadata": {},
   "outputs": [
    {
     "name": "stdout",
     "output_type": "stream",
     "text": [
      "100.00% positive and 0.00% negative.\n"
     ]
    }
   ],
   "source": [
    "## CNN model\n",
    "predict_sentiment(validation_sentence, cnn_model, tokenizer)"
   ]
  },
  {
   "cell_type": "markdown",
   "id": "3e5b30b0",
   "metadata": {},
   "source": [
    "# Conclusion:"
   ]
  },
  {
   "cell_type": "markdown",
   "id": "568703c5",
   "metadata": {},
   "source": [
    "In this task, we implemented and compared two deep learning models, an LSTM and a CNN, to classify IMDb movie reviews as positive or negative. Both models were trained on the same dataset and evaluated across key metrics, including accuracy, precision, recall, and F1-score, to determine which model provides a more effective solution for sentiment analysis on this dataset.\n",
    "\n",
    "The CNN model outperformed the LSTM model in accuracy, recall, and F1 score, demonstrating a more balanced performance for both positive and negative reviews. This indicates that the CNN model was better able to generalize to the unseen test data, achieving a higher overall classification accuracy and capturing positive cases more effectively. While the LSTM achieved slightly higher precision, suggesting it was slightly more conservative with positive predictions, it had a lower recall, indicating that it missed more positive reviews.\n",
    "\n",
    "The comparison highlights the CNN's ability to capture local features and hierarchical patterns in text effectively, which proves beneficial for sentiment analysis in this task. The LSTM, while useful for understanding sequence dependencies, may have been less effective due to potential overfitting or a need for further tuning."
   ]
  }
 ],
 "metadata": {
  "kernelspec": {
   "display_name": "Python 3 (ipykernel)",
   "language": "python",
   "name": "python3"
  },
  "language_info": {
   "codemirror_mode": {
    "name": "ipython",
    "version": 3
   },
   "file_extension": ".py",
   "mimetype": "text/x-python",
   "name": "python",
   "nbconvert_exporter": "python",
   "pygments_lexer": "ipython3",
   "version": "3.7.16"
  }
 },
 "nbformat": 4,
 "nbformat_minor": 5
}
